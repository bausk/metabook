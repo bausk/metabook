{
 "worksheets": [
  {
   "cells": [
    {
     "cell_type": "code",
     "execution_count": null,
     "metadata": {},
     "outputs": [],
     "input": [
      "W1=0.674/12.0 #kip/in\n",
      "W2=0.674/12.0   #kip/in\n",
      "l1=10.42*12.0 #in\n",
      "l2=13.7*12.0 #in\n",
      "a1=l1/2\n",
      "b1=l1/2\n",
      "a2=l2/2\n",
      "b2=l2/2\n",
      "E=29000.0 #KSI\n",
      "Ddesign=0.457 #in\n",
      "Idesign=12.7 #in^4"
     ],
     "language": "python",
     "prompt_number": 104
    },
    {
     "cell_type": "code",
     "execution_count": null,
     "metadata": {},
     "outputs": [
      {
       "output_type": "pyout",
       "prompt_number": 103,
       "text": [
        "(-155.2010364,\n",
        " 2.270328896353167,\n",
        " 10.313696337223476,\n",
        " 3.672854766423357,\n",
        " (16.25688, 16.25688))"
       ],
       "metadata": {}
      }
     ],
     "input": [
      "M1=-(W1*l2**3+W1*l1**3.0)/(8.0*(l1+l2))\n",
      "R1=M1/l1+W1*l1/2\n",
      "R3=M1/l2 + W1*l2/2\n",
      "R2=W1*l1+W1*l2-R1-R3\n",
      "M1,R1,R2,R3,(R1+R2+R3, W1*l1+W2*l2)"
     ],
     "language": "python",
     "prompt_number": 103
    },
    {
     "cell_type": "markdown",
     "metadata": {},
     "source": [
      "Let's find the required moment of inertia under each of the forces."
     ]
    },
    {
     "cell_type": "markdown",
     "metadata": {},
     "source": [
      "Let's set the location variable and find the deflection under first span:"
     ]
    },
    {
     "cell_type": "code",
     "execution_count": null,
     "metadata": {},
     "outputs": [
      {
       "output_type": "pyout",
       "prompt_number": 101,
       "text": [
        "(0.76729783786494, 21.323156544605553)"
       ],
       "metadata": {}
      }
     ],
     "input": [
      "x=4.4*12\n",
      "D = x*(l1-x)/(24*E*Idesign)*((2*l1-x)*(4*R1-W1)-(W1*(l1-x)**2)/l1)\n",
      "I = x*(l1-x)/(24*E*Ddesign)*((2*l1-x)*(4*R1-W1)-(W1*(l1-x)**2)/l1)\n",
      "(D, I) #in, in**4"
     ],
     "language": "python",
     "prompt_number": 101
    }
   ]
  }
 ],
 "cells": [],
 "metadata": {
  "name": "",
  "signature": "sha256:f6dca3362969628b5f0fc498e9760119707ac03637c73e4aa7c28c2eb19406b7"
 },
 "nbformat": 3,
 "nbformat_minor": 0
}