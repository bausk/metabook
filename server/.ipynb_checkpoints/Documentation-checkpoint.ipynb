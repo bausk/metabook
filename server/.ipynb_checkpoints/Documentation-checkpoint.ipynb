{
 "cells": [
  {
   "cell_type": "markdown",
   "metadata": {},
   "source": [
    "## Node Input\n",
    "#### Input Combination\n",
    "Several nodes can feed data into one port. Options can be selected on how to treat the list of incoming vectors:\n",
    "* union\n",
    "* intersection\n",
    "* lift\n",
    "* flatten\n",
    "\n",
    "## Node Output\n",
    "\n",
    "### Types\n",
    "Several options can be set for output in node properties:\n",
    "* Output as a dict of locals()\n",
    "* Special named variable: In[0]/Out[0]\n",
    "* namedtuple of values\n",
    "\n",
    "### Visualization\n",
    "\n",
    "## Node Properties\n",
    "#### Node Evaluation:\n",
    "* Automatic on change\n",
    "* Automatic on pipeline request (lazy evaluation)\n",
    "* Manual\n",
    "\n",
    "\n",
    "## Data Storage\n",
    "Results are stored during session on server and in the ipynb outputs section.\n",
    "\n",
    "## Execution\n",
    "#### Kernels\n",
    "Multiple kernels can be used. Kernel number can be given in node properties or set to auto.\n",
    "#### Execution Context\n",
    "Currently, execution context in stored on server during session\n",
    "Future variants include:\n",
    "- function scoping: wrapping node contents into a function, setting scope to local, generating a command sequence to execute functions\n",
    "- module scoping: saving nodes each into a different file and importing"
   ]
  },
  {
   "cell_type": "markdown",
   "metadata": {},
   "source": []
  }
 ],
 "metadata": {
  "kernelspec": {
   "display_name": "python3",
   "language": "python",
   "name": "python3"
  },
  "language_info": {
   "codemirror_mode": {
    "name": "ipython",
    "version": 3
   },
   "file_extension": ".py",
   "mimetype": "text/x-python",
   "name": "python",
   "nbconvert_exporter": "python",
   "pygments_lexer": "ipython3",
   "version": "3.5.0"
  }
 },
 "nbformat": 4,
 "nbformat_minor": 0
}
