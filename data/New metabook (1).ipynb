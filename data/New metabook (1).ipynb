{
    "nbformat": 4,
    "nbformat_minor": 0,
    "cells": [
        {
            "cell_type": "code",
            "execution_count": null,
            "outputs": [],
            "source": [],
            "metadata": {
                "metabook": {
                    "position": {
                        "y": 199,
                        "x": 249
                    },
                    "outPorts": [
                        "out:locals"
                    ],
                    "inPorts": [
                        "in:locals"
                    ],
                    "id": "3f2648e0-8fbe-4f0e-b03a-ac0e0c27ef8a"
                },
                "collapsed": true
            }
        }
    ],
    "metadata": {
        "language_info": {
            "version": "3.5.0",
            "pygments_lexer": "ipython3",
            "codemirror_mode": {
                "version": 3,
                "name": "ipython"
            },
            "nbconvert_exporter": "python",
            "file_extension": ".py",
            "name": "python",
            "mimetype": "text/x-python"
        },
        "metabook": {
            "version": 0,
            "tabs": {},
            "format": "native:ipynb",
            "defaults": {
                "native:ipynb": {
                    "cell_generation": {
                        "increment_x": 500,
                        "start_x": 0,
                        "increment_y": 20,
                        "start_y": 0
                    },
                    "cell": {
                        "cell_type": "code",
                        "execution_count": null,
                        "outputs": [],
                        "source": [],
                        "metadata": {
                            "metabook": {
                                "outPorts": [
                                    "out:locals"
                                ],
                                "position": {
                                    "y": 10,
                                    "x": 10
                                },
                                "inPorts": [
                                    "in:locals"
                                ]
                            },
                            "collapsed": false
                        }
                    }
                }
            },
            "id": "5b20be87-d39c-4d58-b870-e554007ba966",
            "links": []
        },
        "kernelspec": {
            "display_name": "Python 3",
            "language": "python",
            "name": "python3"
        }
    }
}