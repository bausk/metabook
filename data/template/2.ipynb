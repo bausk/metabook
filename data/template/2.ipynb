{
 "cells": [
  {
   "cell_type": "code",
   "execution_count": null,
   "metadata": {
    "collapsed": true,
    "metabook": {}
   },
   "outputs": [],
   "source": []
  }
 ],
 "metadata": {
  "metabook": {
    "version": 0,
    "defaults": {
      "cell": {
        "cell_type": "code",
        "execution_count": null,
        "metadata": {
          "collapsed": false,
          "metabook": {
            "position": {
              "x":10,
              "y":10
            },
            "inPorts":["in:locals"],
            "outPorts":["out:locals"]
          }
        },
        "outputs": [],
        "source": []
      }
    },
    "links": [],
    "id": null

  },
  "kernelspec": {
   "display_name": "Python 3",
   "language": "python",
   "name": "python3"
  },
  "language_info": {
   "codemirror_mode": {
    "name": "ipython",
    "version": 3
   },
   "file_extension": ".py",
   "mimetype": "text/x-python",
   "name": "python",
   "nbconvert_exporter": "python",
   "pygments_lexer": "ipython3",
   "version": "3.5.0"
  }
 },
 "nbformat": 4,
 "nbformat_minor": 0
}
