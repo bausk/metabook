{
    "nbformat_minor": 0,
    "cells": [
        {
            "source": [
                "print(\"hello python\")\n"
            ],
            "cell_type": "code",
            "outputs": [],
            "metadata": {
                "collapsed": false,
                "metabook": {
                    "inPorts": [
                        "in:locals"
                    ],
                    "position": {
                        "x": 192,
                        "y": 68
                    },
                    "outPorts": [
                        "out:locals"
                    ],
                    "id": "98632146-6243-469d-b55c-596f6aa68879"
                }
            },
            "execution_count": null
        }
    ],
    "metadata": {
        "kernelspec": {
            "name": "python3",
            "language": "python",
            "display_name": "Python 3"
        },
        "language_info": {
            "pygments_lexer": "ipython3",
            "codemirror_mode": {
                "name": "ipython",
                "version": 3
            },
            "file_extension": ".py",
            "name": "python",
            "version": "3.5.0",
            "nbconvert_exporter": "python",
            "mimetype": "text/x-python"
        },
        "metabook": {
            "links": [],
            "version": 0,
            "defaults": {
                "cell": {
                    "source": [],
                    "cell_type": "code",
                    "outputs": [],
                    "metadata": {
                        "collapsed": false,
                        "metabook": {
                            "inPorts": [
                                "in:locals"
                            ],
                            "position": {
                                "x": 10,
                                "y": 10
                            },
                            "outPorts": [
                                "out:locals"
                            ]
                        }
                    },
                    "execution_count": null
                }
            },
            "id": "57609d8f-61dc-4501-a3ab-34d17941953e"
        }
    },
    "nbformat": 4
}