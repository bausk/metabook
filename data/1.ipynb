{
 "cells": [
  {
   "cell_type": "code",
   "execution_count": 1,
   "metadata": {
    "collapsed": true
   },
   "outputs": [],
   "source": [
    "W1=0.674/12.0 #kip/in\n",
    "W2=0.674/12.0   #kip/in\n",
    "l1=10.42*12.0 #in\n",
    "l2=13.7*12.0 #in\n",
    "a1=l1/2\n",
    "b1=l1/2\n",
    "a2=l2/2\n",
    "b2=l2/2\n",
    "E=29000.0 #KSI\n",
    "Ddesign=0.457 #in\n",
    "Idesign=12.7 #in^4"
   ]
  },
  {
   "cell_type": "code",
   "execution_count": 2,
   "metadata": {
    "collapsed": false
   },
   "outputs": [
    {
     "data": {
      "text/plain": [
       "(-155.2010364,\n",
       " 2.270328896353167,\n",
       " 10.313696337223476,\n",
       " 3.672854766423357,\n",
       " (16.25688, 16.25688))"
      ]
     },
     "execution_count": 2,
     "metadata": {},
     "output_type": "execute_result"
    }
   ],
   "source": [
    "M1=-(W1*l2**3+W1*l1**3.0)/(8.0*(l1+l2))\n",
    "R1=M1/l1+W1*l1/2\n",
    "R3=M1/l2 + W1*l2/2\n",
    "R2=W1*l1+W1*l2-R1-R3\n",
    "M1,R1,R2,R3,(R1+R2+R3, W1*l1+W2*l2)"
   ]
  },
  {
   "cell_type": "markdown",
   "metadata": {},
   "source": [
    "Let's find the required moment of inertia under each of the forces."
   ]
  },
  {
   "cell_type": "markdown",
   "metadata": {},
   "source": [
    "Let's set the location variable and find the deflection under first span:"
   ]
  },
  {
   "cell_type": "markdown",
   "metadata": {
    "collapsed": false
   },
   "source": [
    "# x=4.4*12\n",
    "D = x*(l1-x)/(24*E*Idesign)*((2*l1-x)*(4*R1-W1)-(W1*(l1-x)**2)/l1)\n",
    "I = x*(l1-x)/(24*E*Ddesign)*((2*l1-x)*(4*R1-W1)-(W1*(l1-x)**2)/l1)\n",
    "(D, I) #in, in**4"
   ]
  }
 ],
 "metadata": {
  "kernelspec": {
   "display_name": "Python 3",
   "language": "python",
   "name": "python3"
  },
  "language_info": {
   "codemirror_mode": {
    "name": "ipython",
    "version": 3
   },
   "file_extension": ".py",
   "mimetype": "text/x-python",
   "name": "python",
   "nbconvert_exporter": "python",
   "pygments_lexer": "ipython3",
   "version": "3.5.0"
  }
 },
 "nbformat": 4,
 "nbformat_minor": 0
}
