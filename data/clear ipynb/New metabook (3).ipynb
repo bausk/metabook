{
    "cells": [
        {
            "source": [
                "kkk\n"
            ],
            "id": "831fa9a8-d37d-4073-a63a-f4153d23850a",
            "cell_type": "code",
            "inPorts": [
                "in:locals"
            ],
            "outPorts": [
                "out:locals"
            ],
            "position": {
                "x": 10,
                "y": 10
            }
        }
    ],
    "results": {
        "831fa9a8-d37d-4073-a63a-f4153d23850a": []
    },
    "tabs": {},
    "links": []
}