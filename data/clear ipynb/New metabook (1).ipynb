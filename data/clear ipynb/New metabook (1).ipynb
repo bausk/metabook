{
    "nbformat_minor": 0,
    "metadata": {
        "language_info": {
            "codemirror_mode": {
                "version": 3,
                "name": "ipython"
            },
            "name": "python",
            "mimetype": "text/x-python",
            "pygments_lexer": "ipython3",
            "version": "3.5.0",
            "nbconvert_exporter": "python",
            "file_extension": ".py"
        },
        "kernelspec": {
            "language": "python",
            "name": "python3",
            "display_name": "Python 3"
        },
        "metabook": {
            "id": "650415f8-13ef-40d8-8276-30db9ea50c37",
            "defaults": {
                "native:ipynb": {
                    "cell": {
                        "metadata": {
                            "collapsed": false,
                            "metabook": {
                                "inPorts": [
                                    "in:locals"
                                ],
                                "position": {
                                    "y": 10,
                                    "x": 10
                                },
                                "outPorts": [
                                    "out:locals"
                                ]
                            }
                        },
                        "source": [],
                        "execution_count": null,
                        "cell_type": "code",
                        "outputs": []
                    },
                    "cell_generation": {
                        "start_y": 0,
                        "increment_x": 500,
                        "start_x": 0,
                        "increment_y": 20
                    }
                }
            },
            "format": "native:ipynb",
            "tabs": {},
            "version": 0,
            "links": []
        }
    },
    "cells": [
        {
            "metadata": {
                "collapsed": true,
                "metabook": {
                    "inPorts": [
                        "in:locals"
                    ],
                    "outPorts": [
                        "out:locals"
                    ],
                    "id": "352725f5-f4ee-471f-9e4f-c4050eca6e51",
                    "position": {
                        "y": 10,
                        "x": 10
                    }
                }
            },
            "source": [],
            "execution_count": null,
            "cell_type": "code",
            "outputs": []
        }
    ],
    "nbformat": 4
}