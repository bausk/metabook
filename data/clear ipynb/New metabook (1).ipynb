{
    "nbformat_minor": 0,
    "nbformat": 4,
    "metadata": {
        "kernelspec": {
            "language": "python",
            "name": "python3",
            "display_name": "Python 3"
        },
        "metabook": {
            "defaults": {
                "native:ipynb": {
                    "cell": {
                        "outputs": [],
                        "source": [],
                        "metadata": {
                            "metabook": {
                                "outPorts": [
                                    "out:locals"
                                ],
                                "position": {
                                    "x": 10,
                                    "y": 10
                                },
                                "inPorts": [
                                    "in:locals"
                                ]
                            },
                            "collapsed": false
                        },
                        "execution_count": null,
                        "cell_type": "code"
                    },
                    "cell_generation": {
                        "increment_x": 500,
                        "start_y": 0,
                        "start_x": 0,
                        "increment_y": 20
                    }
                }
            },
            "format": "native:ipynb",
            "links": [],
            "id": "650415f8-13ef-40d8-8276-30db9ea50c37",
            "version": 0,
            "tabs": {}
        },
        "language_info": {
            "codemirror_mode": {
                "name": "ipython",
                "version": 3
            },
            "pygments_lexer": "ipython3",
            "name": "python",
            "file_extension": ".py",
            "mimetype": "text/x-python",
            "version": "3.5.0",
            "nbconvert_exporter": "python"
        }
    },
    "cells": [
        {
            "outputs": [],
            "source": [
                "import c\n"
            ],
            "metadata": {
                "metabook": {
                    "id": "352725f5-f4ee-471f-9e4f-c4050eca6e51",
                    "inPorts": [
                        "in:locals"
                    ],
                    "position": {
                        "x": 176.11581420898438,
                        "y": 289.986572265625
                    },
                    "outPorts": [
                        "out:locals",
                        "newport0.54",
                        "newport0.33"
                    ]
                },
                "collapsed": true
            },
            "execution_count": null,
            "cell_type": "code"
        }
    ]
}