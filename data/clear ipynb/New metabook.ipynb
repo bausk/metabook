{
    "cells": [
        {
            "metadata": {
                "metabook": {
                    "inPorts": [
                        "in:locals"
                    ],
                    "id": "e06f2785-6880-4273-9f5b-f7b2d11a9cd2",
                    "outPorts": [
                        "out:locals"
                    ],
                    "position": {
                        "x": 10,
                        "y": 10
                    }
                },
                "collapsed": true
            },
            "execution_count": null,
            "outputs": [],
            "cell_type": "code",
            "source": []
        }
    ],
    "nbformat_minor": 0,
    "metadata": {
        "kernelspec": {
            "name": "python3",
            "display_name": "Python 3",
            "language": "python"
        },
        "metabook": {
            "defaults": {
                "native:ipynb": {
                    "cell_generation": {
                        "start_x": 0,
                        "increment_y": 20,
                        "increment_x": 500,
                        "start_y": 0
                    },
                    "cell": {
                        "metadata": {
                            "metabook": {
                                "outPorts": [
                                    "out:locals"
                                ],
                                "inPorts": [
                                    "in:locals"
                                ],
                                "position": {
                                    "x": 10,
                                    "y": 10
                                }
                            },
                            "collapsed": false
                        },
                        "execution_count": null,
                        "outputs": [],
                        "cell_type": "code",
                        "source": []
                    }
                }
            },
            "tabs": {},
            "id": "3d9df17c-64d8-41b0-a344-a2582bd7766d",
            "links": [],
            "format": "native:ipynb",
            "version": 0
        },
        "language_info": {
            "nbconvert_exporter": "python",
            "version": "3.5.0",
            "codemirror_mode": {
                "name": "ipython",
                "version": 3
            },
            "name": "python",
            "pygments_lexer": "ipython3",
            "mimetype": "text/x-python",
            "file_extension": ".py"
        }
    },
    "nbformat": 4
}