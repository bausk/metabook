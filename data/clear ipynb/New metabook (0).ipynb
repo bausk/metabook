{
    "nbformat": 4,
    "nbformat_minor": 0,
    "cells": [
        {
            "execution_count": null,
            "outputs": [],
            "metadata": {
                "metabook": {
                    "outPorts": [
                        "out:locals"
                    ],
                    "inPorts": [
                        "in:locals"
                    ],
                    "id": "a883a8eb-2eb7-4f7b-828f-e104b52c5538",
                    "position": {
                        "x": 10,
                        "y": 10
                    }
                },
                "collapsed": true
            },
            "source": [
                "kekek\n"
            ],
            "cell_type": "code"
        }
    ],
    "metadata": {
        "language_info": {
            "file_extension": ".py",
            "pygments_lexer": "ipython3",
            "version": "3.5.0",
            "nbconvert_exporter": "python",
            "name": "python",
            "codemirror_mode": {
                "name": "ipython",
                "version": 3
            },
            "mimetype": "text/x-python"
        },
        "metabook": {
            "id": "6efddc73-db1c-4d9d-9770-eee41d5fa455",
            "tabs": {},
            "defaults": {
                "native:ipynb": {
                    "cell": {
                        "execution_count": null,
                        "outputs": [],
                        "metadata": {
                            "metabook": {
                                "outPorts": [
                                    "out:locals"
                                ],
                                "position": {
                                    "x": 10,
                                    "y": 10
                                },
                                "inPorts": [
                                    "in:locals"
                                ]
                            },
                            "collapsed": false
                        },
                        "source": [],
                        "cell_type": "code"
                    },
                    "cell_generation": {
                        "start_y": 0,
                        "start_x": 0,
                        "increment_x": 500,
                        "increment_y": 20
                    }
                }
            },
            "version": 0,
            "format": "native:ipynb",
            "links": []
        },
        "kernelspec": {
            "display_name": "Python 3",
            "language": "python",
            "name": "python3"
        }
    }
}