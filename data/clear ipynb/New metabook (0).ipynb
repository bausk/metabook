{
    "nbformat_minor": 0,
    "nbformat": 4,
    "cells": [
        {
            "source": [
                "topkek\n"
            ],
            "outputs": [],
            "cell_type": "code",
            "metadata": {
                "metabook": {
                    "position": {
                        "y": 210,
                        "x": 326
                    },
                    "outPorts": [
                        "out:locals"
                    ],
                    "inPorts": [
                        "in:locals"
                    ],
                    "id": "a883a8eb-2eb7-4f7b-828f-e104b52c5538"
                },
                "collapsed": true
            },
            "execution_count": null
        }
    ],
    "metadata": {
        "language_info": {
            "name": "python",
            "codemirror_mode": {
                "name": "ipython",
                "version": 3
            },
            "version": "3.5.0",
            "pygments_lexer": "ipython3",
            "nbconvert_exporter": "python",
            "file_extension": ".py",
            "mimetype": "text/x-python"
        },
        "metabook": {
            "version": 0,
            "defaults": {
                "native:ipynb": {
                    "cell": {
                        "source": [],
                        "outputs": [],
                        "cell_type": "code",
                        "metadata": {
                            "metabook": {
                                "position": {
                                    "y": 10,
                                    "x": 10
                                },
                                "outPorts": [
                                    "out:locals"
                                ],
                                "inPorts": [
                                    "in:locals"
                                ]
                            },
                            "collapsed": false
                        },
                        "execution_count": null
                    },
                    "cell_generation": {
                        "start_x": 0,
                        "start_y": 0,
                        "increment_y": 20,
                        "increment_x": 500
                    }
                }
            },
            "id": "6efddc73-db1c-4d9d-9770-eee41d5fa455",
            "tabs": {},
            "format": "native:ipynb",
            "links": []
        },
        "kernelspec": {
            "name": "python3",
            "language": "python",
            "display_name": "Python 3"
        }
    }
}