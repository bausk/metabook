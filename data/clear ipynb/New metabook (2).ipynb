{
    "nbformat_minor": 0,
    "metadata": {
        "language_info": {
            "codemirror_mode": {
                "version": 3,
                "name": "ipython"
            },
            "name": "python",
            "mimetype": "text/x-python",
            "pygments_lexer": "ipython3",
            "version": "3.5.0",
            "nbconvert_exporter": "python",
            "file_extension": ".py"
        },
        "kernelspec": {
            "language": "python",
            "name": "python3",
            "display_name": "Python 3"
        },
        "metabook": {
            "id": "4711fbaf-56cf-4378-b070-12da4a3b204d",
            "defaults": {
                "native:ipynb": {
                    "cell": {
                        "metadata": {
                            "collapsed": false,
                            "metabook": {
                                "inPorts": [
                                    "in:locals"
                                ],
                                "position": {
                                    "y": 10,
                                    "x": 10
                                },
                                "outPorts": [
                                    "out:locals"
                                ]
                            }
                        },
                        "source": [],
                        "execution_count": null,
                        "cell_type": "code",
                        "outputs": []
                    },
                    "cell_generation": {
                        "start_y": 0,
                        "increment_x": 500,
                        "start_x": 0,
                        "increment_y": 20
                    }
                }
            },
            "format": "native:ipynb",
            "tabs": {},
            "version": 0,
            "links": []
        }
    },
    "cells": [
        {
            "metadata": {
                "collapsed": true,
                "metabook": {
                    "inPorts": [
                        "in:locals"
                    ],
                    "outPorts": [
                        "out:locals"
                    ],
                    "id": "7f45f680-1c60-4392-817a-bb5991cdaa40",
                    "position": {
                        "y": 10,
                        "x": 10
                    }
                }
            },
            "source": [
                "hey nigga!\n"
            ],
            "execution_count": null,
            "cell_type": "code",
            "outputs": []
        }
    ],
    "nbformat": 4
}