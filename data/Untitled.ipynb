{
    "cells": [
        {
            "head_content": "Cell: ID",
            "outPorts": [
                "out:locals"
            ],
            "z": 1,
            "attrs": {
                ".outPorts>.port0>.port-label": {
                    "text": "out:locals"
                },
                ".outPorts>.port0>.port-body": {
                    "port": {
                        "id": "out:locals",
                        "type": "out"
                    }
                },
                ".outPorts>.port0": {
                    "ref-y": 0.7532467532467534,
                    "ref": ".body",
                    "ref-dx": 0
                },
                ".inPorts>.port0>.port-label": {
                    "text": "in:locals"
                },
                ".inPorts>.port0": {
                    "ref-y": 0.7532467532467534,
                    "ref": ".body"
                },
                ".inPorts>.port0>.port-body": {
                    "port": {
                        "id": "in:locals",
                        "type": "in"
                    }
                }
            },
            "dimensions": {
                "min-height": 100,
                "max-height": 200,
                "max-width": 500,
                "min-width": 250
            },
            "position": {
                "x": 30,
                "y": 30
            },
            "inPorts": [
                "in:locals"
            ],
            "type": "html.Node",
            "size": {
                "height": 77,
                "width": 393
            },
            "node_markup": {
                "node_editor": "<span class=\"ui form node_editor\"><textarea class=\"node_coupled\"></textarea></span>",
                "footing": "<span class=\"ui small label content_footing\" style=\"font-family: monospace\">Python file</span>",
                "node_viewer": "<div class=\"node_viewer python\" data-metabook=\"true\"></div>",
                "head": "<span class=\"content_head\">Code Cell: FGFDG3456FGDFE<label class=\"ui very small label btn_close\"><span class=\"fa fa-close\"></span></label></span>"
            },
            "content": "import sys\n",
            "id": "e1589e42-3601-4ac1-a787-9bebf5e94f45",
            "footing_content": "ipynb cell [2]",
            "angle": 0
        },
        {
            "head_content": "Cell: ID",
            "outPorts": [
                "out:locals"
            ],
            "z": 2,
            "attrs": {
                ".outPorts>.port0>.port-label": {
                    "text": "out:locals"
                },
                ".outPorts>.port0>.port-body": {
                    "port": {
                        "id": "out:locals",
                        "type": "out"
                    }
                },
                ".outPorts>.port0": {
                    "ref-y": 0.7532467532467534,
                    "ref": ".body",
                    "ref-dx": 0
                },
                ".inPorts>.port0>.port-label": {
                    "text": "in:locals"
                },
                ".inPorts>.port0": {
                    "ref-y": 0.7532467532467534,
                    "ref": ".body"
                },
                ".inPorts>.port0>.port-body": {
                    "port": {
                        "id": "in:locals",
                        "type": "in"
                    }
                }
            },
            "dimensions": {
                "min-height": 100,
                "max-height": 200,
                "max-width": 500,
                "min-width": 250
            },
            "position": {
                "x": 530,
                "y": 130
            },
            "inPorts": [
                "in:locals"
            ],
            "type": "html.Node",
            "size": {
                "height": 77,
                "width": 393
            },
            "node_markup": {
                "node_editor": "<span class=\"ui form node_editor\"><textarea class=\"node_coupled\"></textarea></span>",
                "footing": "<span class=\"ui small label content_footing\" style=\"font-family: monospace\">Python file</span>",
                "node_viewer": "<div class=\"node_viewer python\" data-metabook=\"true\"></div>",
                "head": "<span class=\"content_head\">Code Cell: FGFDG3456FGDFE<label class=\"ui very small label btn_close\"><span class=\"fa fa-close\"></span></label></span>"
            },
            "content": "a = c + b",
            "id": "6c51cf1d-1004-415d-bfa4-fcb1742c47ee",
            "footing_content": "ipynb cell [3]",
            "angle": 0
        },
        {
            "attrs": {},
            "z": 3,
            "source": {
                "port": "out:locals",
                "id": "e1589e42-3601-4ac1-a787-9bebf5e94f45"
            },
            "target": {
                "port": "in:locals",
                "id": "6c51cf1d-1004-415d-bfa4-fcb1742c47ee"
            },
            "smooth": true,
            "id": "36095b4c-d45a-477b-b08d-0fe6ee8a5f76",
            "type": "html.Link"
        }
    ]
}