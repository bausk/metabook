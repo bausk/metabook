{
    "cells": [
        {
            "cell_type": "code",
            "source": [
                "kekeke\n",
                "kekeke\n"
            ],
            "metadata": {
                "metabook": {
                    "outPorts": [
                        "out:locals"
                    ],
                    "id": "3cdc5271-b810-48cc-ab86-801f97158788",
                    "position": {
                        "y": 336.9200439453125,
                        "x": 214.96002197265625
                    },
                    "inPorts": [
                        "in:locals"
                    ]
                },
                "collapsed": false
            },
            "outputs": [
                {
                    "traceback": [
                        "\u001b[1;31m---------------------------------------------------------------------------\u001b[0m",
                        "\u001b[1;31mNameError\u001b[0m                                 Traceback (most recent call last)",
                        "\u001b[1;32m<ipython-input-2-19d3991ff8f8>\u001b[0m in \u001b[0;36m<module>\u001b[1;34m()\u001b[0m\n\u001b[1;32m----> 1\u001b[1;33m \u001b[0mkekeke\u001b[0m\u001b[1;33m\u001b[0m\u001b[0m\n\u001b[0m\u001b[0;32m      2\u001b[0m \u001b[0mkekeke\u001b[0m\u001b[1;33m\u001b[0m\u001b[0m\n",
                        "\u001b[1;31mNameError\u001b[0m: name 'kekeke' is not defined"
                    ],
                    "output_type": "error",
                    "evalue": "name 'kekeke' is not defined",
                    "ename": "NameError"
                }
            ],
            "execution_count": 2
        },
        {
            "cell_type": "code",
            "source": [
                "okokok\n",
                "pfpfpf\n"
            ],
            "metadata": {
                "metabook": {
                    "outPorts": [
                        "out:locals"
                    ],
                    "id": "fcaaa686-40f9-4dae-a99d-c1e5bba64243",
                    "position": {
                        "y": 602.7726440429688,
                        "x": 698.451171875
                    },
                    "inPorts": [
                        "in:locals"
                    ]
                },
                "collapsed": false
            },
            "outputs": [],
            "execution_count": null
        }
    ],
    "nbformat": 4,
    "metadata": {
        "metabook": {
            "links": [
                {
                    "target": {
                        "port": "in:locals",
                        "id": "fcaaa686-40f9-4dae-a99d-c1e5bba64243"
                    },
                    "source": {
                        "port": "out:locals",
                        "id": "3cdc5271-b810-48cc-ab86-801f97158788"
                    },
                    "id": "54827bdd-0762-47d5-90aa-4cd304d047ca"
                }
            ],
            "defaults": {
                "cell": {
                    "cell_type": "code",
                    "source": [],
                    "metadata": {
                        "metabook": {
                            "outPorts": [
                                "out:locals"
                            ],
                            "position": {
                                "y": 10,
                                "x": 10
                            },
                            "inPorts": [
                                "in:locals"
                            ]
                        },
                        "collapsed": false
                    },
                    "outputs": [],
                    "execution_count": null
                }
            },
            "id": "83d1e765-1b35-41ec-bb18-76755f1251aa",
            "version": 0
        },
        "kernelspec": {
            "display_name": "Python 3",
            "name": "python3",
            "language": "python"
        },
        "language_info": {
            "name": "python",
            "codemirror_mode": {
                "name": "ipython",
                "version": 3
            },
            "file_extension": ".py",
            "pygments_lexer": "ipython3",
            "version": "3.5.0",
            "mimetype": "text/x-python",
            "nbconvert_exporter": "python"
        }
    },
    "nbformat_minor": 0
}