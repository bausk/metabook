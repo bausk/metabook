{
    "nbformat": 4,
    "nbformat_minor": 0,
    "cells": [
        {
            "source": [
                "kekeke\n",
                "kekeke\n"
            ],
            "cell_type": "code",
            "outputs": [
                {
                    "output_type": "error",
                    "traceback": [
                        "\u001b[1;31m---------------------------------------------------------------------------\u001b[0m",
                        "\u001b[1;31mNameError\u001b[0m                                 Traceback (most recent call last)",
                        "\u001b[1;32m<ipython-input-2-19d3991ff8f8>\u001b[0m in \u001b[0;36m<module>\u001b[1;34m()\u001b[0m\n\u001b[1;32m----> 1\u001b[1;33m \u001b[0mkekeke\u001b[0m\u001b[1;33m\u001b[0m\u001b[0m\n\u001b[0m\u001b[0;32m      2\u001b[0m \u001b[0mkekeke\u001b[0m\u001b[1;33m\u001b[0m\u001b[0m\n",
                        "\u001b[1;31mNameError\u001b[0m: name 'kekeke' is not defined"
                    ],
                    "ename": "NameError",
                    "evalue": "name 'kekeke' is not defined"
                }
            ],
            "metadata": {
                "metabook": {
                    "inPorts": [
                        "in:locals"
                    ],
                    "id": "3cdc5271-b810-48cc-ab86-801f97158788",
                    "position": {
                        "x": 214.96002197265625,
                        "y": 336.9200439453125
                    },
                    "outPorts": [
                        "out:locals"
                    ]
                },
                "collapsed": false
            },
            "execution_count": 2
        },
        {
            "source": [
                "okokok\n",
                "pfpfpf\n"
            ],
            "cell_type": "code",
            "outputs": [],
            "metadata": {
                "metabook": {
                    "inPorts": [
                        "in:locals"
                    ],
                    "id": "fcaaa686-40f9-4dae-a99d-c1e5bba64243",
                    "position": {
                        "x": 698.451171875,
                        "y": 602.7726440429688
                    },
                    "outPorts": [
                        "out:locals"
                    ]
                },
                "collapsed": false
            },
            "execution_count": null
        }
    ],
    "metadata": {
        "metabook": {
            "links": [
                {
                    "source": {
                        "id": "3cdc5271-b810-48cc-ab86-801f97158788",
                        "port": "out:locals"
                    },
                    "id": "54827bdd-0762-47d5-90aa-4cd304d047ca",
                    "target": {
                        "id": "fcaaa686-40f9-4dae-a99d-c1e5bba64243",
                        "port": "in:locals"
                    }
                }
            ],
            "version": 0,
            "defaults": {
                "cell": {
                    "source": [],
                    "cell_type": "code",
                    "outputs": [],
                    "metadata": {
                        "metabook": {
                            "inPorts": [
                                "in:locals"
                            ],
                            "position": {
                                "x": 10,
                                "y": 10
                            },
                            "outPorts": [
                                "out:locals"
                            ]
                        },
                        "collapsed": false
                    },
                    "execution_count": null
                }
            },
            "id": "83d1e765-1b35-41ec-bb18-76755f1251aa"
        },
        "kernelspec": {
            "name": "python3",
            "display_name": "Python 3",
            "language": "python"
        },
        "language_info": {
            "file_extension": ".py",
            "version": "3.5.0",
            "mimetype": "text/x-python",
            "name": "python",
            "nbconvert_exporter": "python",
            "pygments_lexer": "ipython3",
            "codemirror_mode": {
                "name": "ipython",
                "version": 3
            }
        }
    }
}