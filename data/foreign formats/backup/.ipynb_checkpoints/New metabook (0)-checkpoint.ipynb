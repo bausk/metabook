{
 "cells": [
  {
   "cell_type": "code",
   "execution_count": 1,
   "metadata": {
    "collapsed": false,
    "metabook": {
     "id": "db49c44f-e9d6-4035-8e89-33a067985d71",
     "inPorts": [
      "in:locals"
     ],
     "outPorts": [
      "out:locals"
     ],
     "position": {
      "x": 10,
      "y": 10
     }
    }
   },
   "outputs": [
    {
     "ename": "ImportError",
     "evalue": "No module named 'ipynb'",
     "output_type": "error",
     "traceback": [
      "\u001b[1;31m---------------------------------------------------------------------------\u001b[0m",
      "\u001b[1;31mImportError\u001b[0m                               Traceback (most recent call last)",
      "\u001b[1;32m<ipython-input-1-5140e9675db3>\u001b[0m in \u001b[0;36m<module>\u001b[1;34m()\u001b[0m\n\u001b[1;32m----> 1\u001b[1;33m \u001b[1;32mimport\u001b[0m \u001b[0mipynb\u001b[0m \u001b[1;32mas\u001b[0m \u001b[0mip\u001b[0m\u001b[1;33m\u001b[0m\u001b[0m\n\u001b[0m",
      "\u001b[1;31mImportError\u001b[0m: No module named 'ipynb'"
     ]
    }
   ],
   "source": [
    "import ipynb as ip\n"
   ]
  }
 ],
 "metadata": {
  "kernelspec": {
   "display_name": "Python 3",
   "language": "python",
   "name": "python3"
  },
  "language_info": {
   "codemirror_mode": {
    "name": "ipython",
    "version": 3
   },
   "file_extension": ".py",
   "mimetype": "text/x-python",
   "name": "python",
   "nbconvert_exporter": "python",
   "pygments_lexer": "ipython3",
   "version": "3.5.0"
  },
  "metabook": {
   "defaults": {
    "cell": {
     "cell_type": "code",
     "execution_count": null,
     "metadata": {
      "collapsed": false,
      "metabook": {
       "id": "db49c44f-e9d6-4035-8e89-33a067985d71",
       "inPorts": [
        "in:locals"
       ],
       "outPorts": [
        "out:locals"
       ],
       "position": {
        "x": 10,
        "y": 10
       }
      }
     },
     "outputs": [],
     "source": []
    }
   },
   "id": "8a2997da-ee10-4964-8e82-6e43050fce61",
   "links": [],
   "version": 0
  }
 },
 "nbformat": 4,
 "nbformat_minor": 0
}
