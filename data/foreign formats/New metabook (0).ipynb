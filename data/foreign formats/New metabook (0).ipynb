{
    "metadata": {
        "language_info": {
            "pygments_lexer": "ipython3",
            "file_extension": ".py",
            "codemirror_mode": {
                "name": "ipython",
                "version": 3
            },
            "name": "python",
            "mimetype": "text/x-python",
            "version": "3.5.0",
            "nbconvert_exporter": "python"
        },
        "metabook": {
            "id": "30864a37-1c44-4bc0-8160-1975adbf134f",
            "links": [],
            "defaults": {
                "cell": {
                    "metadata": {
                        "collapsed": false,
                        "metabook": {
                            "outPorts": [
                                "out:locals"
                            ],
                            "position": {
                                "x": 10,
                                "y": 10
                            },
                            "inPorts": [
                                "in:locals"
                            ]
                        }
                    },
                    "source": [],
                    "execution_count": null,
                    "cell_type": "code",
                    "outputs": []
                }
            },
            "version": 0
        },
        "kernelspec": {
            "name": "python3",
            "display_name": "Python 3",
            "language": "python"
        }
    },
    "cells": [
        {
            "metadata": {
                "collapsed": false,
                "metabook": {
                    "outPorts": [
                        "out:locals"
                    ],
                    "inPorts": [
                        "in:locals"
                    ],
                    "id": "4015422c-d253-4285-bf67-84488088af0e",
                    "position": {
                        "x": 526,
                        "y": 293
                    }
                }
            },
            "source": [
                "onjnonuiono\n",
                "poionmio\n",
                "pmipom\n"
            ],
            "execution_count": null,
            "cell_type": "code",
            "outputs": []
        }
    ],
    "nbformat_minor": 0,
    "nbformat": 4
}