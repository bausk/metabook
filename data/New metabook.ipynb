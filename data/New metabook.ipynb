{
    "metadata": {
        "language_info": {
            "pygments_lexer": "ipython3",
            "file_extension": ".py",
            "codemirror_mode": {
                "name": "ipython",
                "version": 3
            },
            "name": "python",
            "mimetype": "text/x-python",
            "version": "3.5.0",
            "nbconvert_exporter": "python"
        },
        "metabook": {
            "version": 0,
            "links": [],
            "defaults": {
                "cell": {
                    "metadata": {
                        "collapsed": false,
                        "metabook": {
                            "outPorts": [
                                "out:locals"
                            ],
                            "position": {
                                "x": 10,
                                "y": 10
                            },
                            "inPorts": [
                                "in:locals"
                            ]
                        }
                    },
                    "source": [],
                    "execution_count": null,
                    "cell_type": "code",
                    "outputs": []
                }
            },
            "id": "93b0d6f1-3348-49a4-88ad-43372b2d9d99"
        },
        "kernelspec": {
            "name": "python3",
            "display_name": "Python 3",
            "language": "python"
        }
    },
    "cells": [
        {
            "metadata": {
                "collapsed": false,
                "metabook": {
                    "inPorts": [
                        "in:locals"
                    ],
                    "outPorts": [
                        "out:locals"
                    ],
                    "position": {
                        "x": 252,
                        "y": 80
                    },
                    "id": "e307314f-b77c-407c-adf7-bd3aa8953b0e"
                }
            },
            "source": [
                "import python as np\n"
            ],
            "execution_count": null,
            "cell_type": "code",
            "outputs": []
        }
    ],
    "nbformat_minor": 0,
    "nbformat": 4
}