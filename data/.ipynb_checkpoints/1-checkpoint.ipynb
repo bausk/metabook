{
 "cells": [
  {
   "cell_type": "code",
   "execution_count": 3,
   "metadata": {
    "collapsed": false
   },
   "outputs": [
    {
     "name": "stdout",
     "output_type": "stream",
     "text": [
      "Using IPython version 4.0.1\n"
     ]
    }
   ],
   "source": [
    "import IPython\n",
    "print(\"Using IPython version {}\".format(IPython.__version__))"
   ]
  },
  {
   "cell_type": "code",
   "execution_count": 6,
   "metadata": {
    "collapsed": false
   },
   "outputs": [],
   "source": [
    "import nbformat"
   ]
  },
  {
   "cell_type": "code",
   "execution_count": 8,
   "metadata": {
    "collapsed": true
   },
   "outputs": [],
   "source": [
    "nb = nbformat.v4.new_notebook()"
   ]
  },
  {
   "cell_type": "code",
   "execution_count": 10,
   "metadata": {
    "collapsed": false
   },
   "outputs": [
    {
     "data": {
      "text/plain": [
       "[]"
      ]
     },
     "execution_count": 10,
     "metadata": {},
     "output_type": "execute_result"
    }
   ],
   "source": [
    "nb.cells"
   ]
  },
  {
   "cell_type": "code",
   "execution_count": 11,
   "metadata": {
    "collapsed": true
   },
   "outputs": [],
   "source": [
    "markdown_cell = nbformat.v4.new_markdown_cell(\"This notebook was automatically generated.\")\n",
    "\n",
    "nb.cells.append(markdown_cell)"
   ]
  },
  {
   "cell_type": "code",
   "execution_count": 12,
   "metadata": {
    "collapsed": false
   },
   "outputs": [
    {
     "data": {
      "text/plain": [
       "[{'cell_type': 'markdown',\n",
       "  'metadata': {},\n",
       "  'source': 'This notebook was automatically generated.'}]"
      ]
     },
     "execution_count": 12,
     "metadata": {},
     "output_type": "execute_result"
    }
   ],
   "source": [
    "nb.cells"
   ]
  },
  {
   "cell_type": "code",
   "execution_count": 13,
   "metadata": {
    "collapsed": true
   },
   "outputs": [],
   "source": [
    "source_1 = \"print('Hello world')\"\n",
    "code_cell_1 = nbformat.v4.new_code_cell(source=source_1)\n",
    "nb.cells.append(code_cell_1)"
   ]
  },
  {
   "cell_type": "code",
   "execution_count": 14,
   "metadata": {
    "collapsed": false
   },
   "outputs": [
    {
     "data": {
      "text/plain": [
       "[{'cell_type': 'markdown',\n",
       "  'metadata': {},\n",
       "  'source': 'This notebook was automatically generated.'},\n",
       " {'cell_type': 'code',\n",
       "  'execution_count': None,\n",
       "  'metadata': {},\n",
       "  'outputs': [],\n",
       "  'source': \"print('Hello world')\"}]"
      ]
     },
     "execution_count": 14,
     "metadata": {},
     "output_type": "execute_result"
    }
   ],
   "source": [
    "nb.cells"
   ]
  },
  {
   "cell_type": "code",
   "execution_count": 15,
   "metadata": {
    "collapsed": true
   },
   "outputs": [],
   "source": [
    "import textwrap\n",
    "\n",
    "freq = 5.0  # frequency of the sine wave to be displayed by the code cells below\n",
    "\n",
    "source_2 = \"frequency = {:.1f}\".format(freq)\n",
    "\n",
    "source_3 = textwrap.dedent(\"\"\"\\\n",
    "    %matplotlib inline\n",
    "    import matplotlib.pyplot as plt\n",
    "    import numpy as np\n",
    "\n",
    "    x = np.linspace(0, 2*np.pi, 200)\n",
    "    y = np.sin(frequency*x)\n",
    "\n",
    "    plt.plot(x, y)\n",
    "    \"\"\")\n",
    "\n",
    "code_cell_2 = nbformat.v4.new_code_cell(source=source_2)\n",
    "code_cell_3 = nbformat.v4.new_code_cell(source=source_3)\n",
    "\n",
    "nb.cells.append(code_cell_2)\n",
    "nb.cells.append(code_cell_3)"
   ]
  },
  {
   "cell_type": "code",
   "execution_count": 16,
   "metadata": {
    "collapsed": false
   },
   "outputs": [
    {
     "data": {
      "text/plain": [
       "[{'cell_type': 'markdown',\n",
       "  'metadata': {},\n",
       "  'source': 'This notebook was automatically generated.'},\n",
       " {'cell_type': 'code',\n",
       "  'execution_count': None,\n",
       "  'metadata': {},\n",
       "  'outputs': [],\n",
       "  'source': \"print('Hello world')\"},\n",
       " {'cell_type': 'code',\n",
       "  'execution_count': None,\n",
       "  'metadata': {},\n",
       "  'outputs': [],\n",
       "  'source': 'frequency = 5.0'},\n",
       " {'cell_type': 'code',\n",
       "  'execution_count': None,\n",
       "  'metadata': {},\n",
       "  'outputs': [],\n",
       "  'source': '%matplotlib inline\\nimport matplotlib.pyplot as plt\\nimport numpy as np\\n\\nx = np.linspace(0, 2*np.pi, 200)\\ny = np.sin(frequency*x)\\n\\nplt.plot(x, y)\\n'}]"
      ]
     },
     "execution_count": 16,
     "metadata": {},
     "output_type": "execute_result"
    }
   ],
   "source": [
    "nb.cells"
   ]
  },
  {
   "cell_type": "code",
   "execution_count": 17,
   "metadata": {
    "collapsed": false
   },
   "outputs": [
    {
     "name": "stdout",
     "output_type": "stream",
     "text": [
      "{\n",
      " \"cells\": [\n",
      "  {\n",
      "   \"cell_type\": \"markdown\",\n",
      "   \"metadata\": {},\n",
      "   \"source\": [\n",
      "    \"This notebook was automatically generated.\"\n",
      "   ]\n",
      "  },\n",
      "  {\n",
      "   \"cell_type\": \"code\",\n",
      "   \"execution_count\": null,\n",
      "   \"metadata\": {},\n",
      "   \"outputs\": [],\n",
      "   \"source\": [\n",
      "    \"print('Hello world')\"\n",
      "   ]\n",
      "  },\n",
      "  {\n",
      "   \"cell_type\": \"code\",\n",
      "   \"execution_count\": null,\n",
      "   \"metadata\": {},\n",
      "   \"outputs\": [],\n",
      "   \"source\": [\n",
      "    \"frequency = 5.0\"\n",
      "   ]\n",
      "  },\n",
      "  {\n",
      "   \"cell_type\": \"code\",\n",
      "   \"execution_count\": null,\n",
      "   \"metadata\": {},\n",
      "   \"outputs\": [],\n",
      "   \"source\": [\n",
      "    \"%matplotlib inline\\n\",\n",
      "    \"import matplotlib.pyplot as plt\\n\",\n",
      "    \"import numpy as np\\n\",\n",
      "    \"\\n\",\n",
      "    \"x = np.linspace(0, 2*np.pi, 200)\\n\",\n",
      "    \"y = np.sin(frequency*x)\\n\",\n",
      "    \"\\n\",\n",
      "    \"plt.plot(x, y)\\n\"\n",
      "   ]\n",
      "  }\n",
      " ],\n",
      " \"metadata\": {},\n",
      " \"nbformat\": 4,\n",
      " \"nbformat_minor\": 0\n",
      "}\n"
     ]
    }
   ],
   "source": [
    "print(nbformat.v4.writes_json(nb))"
   ]
  },
  {
   "cell_type": "code",
   "execution_count": 18,
   "metadata": {
    "collapsed": true
   },
   "outputs": [],
   "source": [
    "with open('automatically_generated_notebook.ipynb', 'w') as f:\n",
    "    f.write(nbformat.v4.writes_json(nb))"
   ]
  },
  {
   "cell_type": "code",
   "execution_count": 21,
   "metadata": {
    "collapsed": false
   },
   "outputs": [
    {
     "name": "stdout",
     "output_type": "stream",
     "text": [
      " ’®¬ ў гбва®©бвўҐ F Ё¬ҐҐв ¬ҐвЄг ‚аҐ¬Ґ­­®Ґ\n",
      " ‘ҐаЁ©­л© ­®¬Ґа в®¬ : 7A8A-74E7\n",
      "\n",
      " ‘®¤Ґа¦Ё¬®Ґ Ї ЇЄЁ F:\\Documents\\GitHub\\metabook\\data\n",
      "\n",
      "31.03.2016  14:59               862 automatically_generated_notebook.ipynb\n",
      "               1 д ©«®ў            862 Ў ©в\n",
      "               0 Ї Ї®Є  240я321я388я544 Ў ©в бў®Ў®¤­®\n"
     ]
    }
   ],
   "source": [
    "!dir automatically_generated_notebook.ipynb"
   ]
  },
  {
   "cell_type": "code",
   "execution_count": 20,
   "metadata": {
    "collapsed": false
   },
   "outputs": [
    {
     "name": "stdout",
     "output_type": "stream",
     "text": [
      " ’®¬ ў гбва®©бвўҐ F Ё¬ҐҐв ¬ҐвЄг ‚аҐ¬Ґ­­®Ґ\n",
      " ‘ҐаЁ©­л© ­®¬Ґа в®¬ : 7A8A-74E7\n",
      "\n",
      " ‘®¤Ґа¦Ё¬®Ґ Ї ЇЄЁ F:\\Documents\\GitHub\\metabook\\data\n",
      "\n",
      "31.03.2016  14:59               862 automatically_generated_notebook.ipynb\n",
      "               1 д ©«®ў            862 Ў ©в\n",
      "               0 Ї Ї®Є  240я321я388я544 Ў ©в бў®Ў®¤­®\n"
     ]
    }
   ],
   "source": []
  },
  {
   "cell_type": "code",
   "execution_count": null,
   "metadata": {
    "collapsed": true
   },
   "outputs": [],
   "source": []
  }
 ],
 "metadata": {
  "kernelspec": {
   "display_name": "Python 3",
   "language": "python",
   "name": "python3"
  }
 },
 "nbformat": 4,
 "nbformat_minor": 0
}
